{
 "cells": [
  {
   "cell_type": "code",
   "execution_count": 1,
   "metadata": {},
   "outputs": [],
   "source": [
    "import numpy as np\n",
    "import matplotlib.pyplot as plt"
   ]
  },
  {
   "cell_type": "code",
   "execution_count": 2,
   "metadata": {},
   "outputs": [],
   "source": [
    "def loadDateSet(filename):\n",
    "    dataMat = []\n",
    "    fr = open(filename)\n",
    "    for line in fr.readlines():\n",
    "        # strip()移除首位空格\n",
    "        curline = line.strip().split('\\t')\n",
    "        # map(func, iter) py3返回迭代器， py2返回列表\n",
    "        fltLine = list(map(lambda x: float(x), curline))\n",
    "        dataMat.append(fltLine)\n",
    "    return dataMat"
   ]
  },
  {
   "cell_type": "code",
   "execution_count": 3,
   "metadata": {},
   "outputs": [],
   "source": [
    "def distEclud(vecA, vecB):\n",
    "    # 对应元素相减，对应元素平方\n",
    "    # print(np.power(vecA-vecB, 2))\n",
    "    return np.sqrt(sum(np.power(vecA-vecB, 2)))"
   ]
  },
  {
   "cell_type": "code",
   "execution_count": 4,
   "metadata": {},
   "outputs": [],
   "source": [
    "def randCent(dataSet, k):\n",
    "    n = dataSet.shape[1]\n",
    "    print(dataSet.shape, n)\n",
    "    # k个质心， 特征数为n, 为矩阵类型，可以直接centroids[:, j] = 1 + np.random.rand(k,1)\n",
    "    # 如果是np.array(), 报错 (2,) 不能赋值(2,1)\n",
    "    centroids = np.mat(np.zeros(shape=(k,n)))\n",
    "    for j in range(n):\n",
    "        minJ = min(dataSet[:,j])   # 特征J那一列最小值\n",
    "        rangeJ = float(max(dataSet[:, j]) - minJ)  # 最大值-最小值\n",
    "        centroids[:, j] = minJ + rangeJ * np.random.rand(k,1) # 最小值 + (最大值-最小值)* rand(k,1) # rand(k,1)就是shape=(2,1)的随机数\n",
    "    return centroids"
   ]
  },
  {
   "cell_type": "code",
   "execution_count": 5,
   "metadata": {},
   "outputs": [],
   "source": [
    "def Kmeans(dataSet, k, distMeans=distEclud, createCent=randCent):\n",
    "    m = dataSet.shape[0]\n",
    "    centroids = np.array(createCent(dataSet=dataSet, k=k))   # 随机质心\n",
    "    \n",
    "    clusterAssment = np.array(np.zeros((m,2)))       # 每个样本与质心的信息，[某个质心， 与该质心的距离]\n",
    "    clusterChanged = True\n",
    "    while clusterChanged:\n",
    "        clusterChanged = False\n",
    "        for i in range(m):   # 遍历每一个样本和每个质心，找出距离样本最近的质心\n",
    "            minDist = np.inf; minIndex = -1\n",
    "            for j in range(k):\n",
    "                distJI = distMeans(dataSet[i,:], centroids[j,:])\n",
    "                if distJI < minDist:\n",
    "                    minDist = distJI; minIndex = j\n",
    "                    \n",
    "            if clusterAssment[i,0] != minIndex:\n",
    "                clusterChanged = True\n",
    "            clusterAssment[i, :] = minIndex, minDist**2\n",
    "        print(centroids)\n",
    "    \n",
    "        for cent in range(k):   # 更新质心\n",
    "            ptsInClust = dataSet[np.nonzero(clusterAssment[:,0] == cent)[0]]    # 第 cent 类的挑选出来\n",
    "            centroids[cent, :] = np.mean(ptsInClust, axis=0)   # 按列求均值axis = 0\n",
    "    \n",
    "    return centroids, clusterAssment"
   ]
  },
  {
   "cell_type": "code",
   "execution_count": 6,
   "metadata": {},
   "outputs": [],
   "source": [
    "datMat = np.array(loadDateSet('testSet2.txt'))"
   ]
  },
  {
   "cell_type": "code",
   "execution_count": 7,
   "metadata": {},
   "outputs": [
    {
     "name": "stdout",
     "output_type": "stream",
     "text": [
      "(60, 2) 2\n",
      "[[-4.62782924  2.80346226]\n",
      " [ 0.56295164 -0.01713504]\n",
      " [-1.57764233 -1.37853437]]\n",
      "[[-3.06779095  3.33769884]\n",
      " [ 2.76275171  3.12704005]\n",
      " [-0.45965615 -2.7782156 ]]\n",
      "[[-2.94737575  3.3263781 ]\n",
      " [ 2.93386365  3.12782785]\n",
      " [-0.45965615 -2.7782156 ]]\n"
     ]
    }
   ],
   "source": [
    "myCentroids, clustAssing = Kmeans(dataSet=datMat, k=3, distMeans=distEclud, createCent=randCent)"
   ]
  },
  {
   "cell_type": "code",
   "execution_count": 8,
   "metadata": {},
   "outputs": [
    {
     "data": {
      "text/plain": [
       "<matplotlib.collections.PathCollection at 0x10edb3828>"
      ]
     },
     "execution_count": 8,
     "metadata": {},
     "output_type": "execute_result"
    },
    {
     "data": {
      "image/png": "[encoded data removed]",
      "text/plain": [
       "<Figure size 432x288 with 1 Axes>"
      ]
     },
     "metadata": {
      "needs_background": "light"
     },
     "output_type": "display_data"
    }
   ],
   "source": [
    "x, y = datMat[:, 0], datMat[:, 1]\n",
    "cenx, ceny = myCentroids[:, 0], myCentroids[:,1]\n",
    "plt.scatter(x,y)\n",
    "plt.scatter(cenx, ceny, c='red')"
   ]
  },
  {
   "cell_type": "code",
   "execution_count": 9,
   "metadata": {},
   "outputs": [],
   "source": [
    "def biKmeans(dataSet, k, distMeas = distEclud):\n",
    "    m = dataSet.shape[0]\n",
    "    clusterAssment = np.zeros((m,2))\n",
    "    centroid0 = np.mean(dataSet, axis=0)\n",
    "    centList = [centroid0]\n",
    "    print(centroid0)\n",
    "    for j in range(m):\n",
    "        clusterAssment[j, 1] = distMeas(dataSet[j,:], centroid0)**2\n",
    "    \n",
    "    while len(centList) < k:\n",
    "        lowestSSE = -np.inf\n",
    "        for i in range(len(centList)):   # 尝试划分每个质点的簇\n",
    "            ptsInCurrCluster = dataSet[np.nonzero(clusterAssment[:, 0]==i)[0], :]   # 筛选出属于那个质点的所有点（的行）\n",
    "            centroidMat, splitClustAss = Kmeans(dataSet=ptsInCurrCluster, k=2, distMeans=distMeas)  # 将其划分为两个部分\n",
    "            sseSplit = np.sum(splitClustAss[:,1])   # 划分后的子集的距离求和\n",
    "            sseNotSplit = np.sum(clusterAssment[np.nonzero(clusterAssment[:, 0]==i)[0], 1])  # 没划分的样本信息后面的dist求和\n",
    "            print(sseSplit, sseNotSplit)\n",
    "            if sseNotSplit - sseSplit > lowestSSE:\n",
    "                bestCentToSplit = i\n",
    "                bestNewCents = centroidMat\n",
    "                lowestSSE = sseNotSplit - sseSplit\n",
    "                bestClustAss = splitClustAss.copy()\n",
    "        bestClustAss[np.nonzero(bestClustAss[:, 0]==1)[0], 0] = len(centList)     # 新的簇号\n",
    "#         bestClustAss[np.nonzero(bestClustAss[:, 0]==0)[0], 0] = bestCentToSplit  # 要划分的簇号，不变即可\n",
    "        \n",
    "        centList[bestCentToSplit] = bestNewCents[0,:]  # 要划分的质新，更新一个\n",
    "        centList.append(bestNewCents[1,:])             # 二分带来的新的一个质心\n",
    "        clusterAssment[np.nonzero(clusterAssment[:, 0]==bestCentToSplit)[0], :] = bestClustAss  # 原本属于该簇心的样本信息的更新\n",
    "    \n",
    "    return centList, clusterAssment"
   ]
  },
  {
   "cell_type": "code",
   "execution_count": 10,
   "metadata": {},
   "outputs": [
    {
     "name": "stdout",
     "output_type": "stream",
     "text": [
      "[-0.15772275  1.22533012]\n",
      "(60, 2) 2\n",
      "[[-2.95165989  3.93862186]\n",
      " [ 1.82775345 -3.73060211]]\n",
      "[[-0.48729809  3.42433234]\n",
      " [ 0.30368272 -1.853273  ]]\n",
      "[[-0.06953469  3.29844341]\n",
      " [-0.32150057 -2.62473743]]\n",
      "[[-0.00675605  3.22710297]\n",
      " [-0.45965615 -2.7782156 ]]\n",
      "453.0334895807502 936.6197520850175\n",
      "(40, 2) 2\n",
      "[[-3.34147012  4.41756935]\n",
      " [-4.56907135  2.20024212]]\n",
      "[[ 0.38490422  3.35338275]\n",
      " [-3.5316985   2.090585  ]]\n",
      "[[ 2.19136054  3.20239754]\n",
      " [-3.30393094  3.26416112]]\n",
      "[[ 2.93386365  3.12782785]\n",
      " [-2.94737575  3.3263781 ]]\n",
      "77.59224931775066 423.8762401366249\n",
      "(20, 2) 2\n",
      "[[ 0.21392806 -1.10520555]\n",
      " [-0.94194339 -1.60438877]]\n",
      "[[ 0.7034562  -3.1662018 ]\n",
      " [-0.84736027 -2.64888687]]\n",
      "[[ 0.46927663 -3.30031012]\n",
      " [-1.07894467 -2.43015258]]\n",
      "[[ 0.35496167 -3.36033556]\n",
      " [-1.12616164 -2.30193564]]\n",
      "12.753263136887313 29.15724944412535\n"
     ]
    }
   ],
   "source": [
    "centList, myNewAssments = biKmeans(dataSet=datMat, k=3, distMeas=distEclud)"
   ]
  },
  {
   "cell_type": "code",
   "execution_count": 11,
   "metadata": {},
   "outputs": [
    {
     "data": {
      "text/plain": [
       "[array([2.93386365, 3.12782785]),\n",
       " array([-0.45965615, -2.7782156 ]),\n",
       " array([-2.94737575,  3.3263781 ])]"
      ]
     },
     "execution_count": 11,
     "metadata": {},
     "output_type": "execute_result"
    }
   ],
   "source": [
    "centList"
   ]
  },
  {
   "cell_type": "code",
   "execution_count": 12,
   "metadata": {},
   "outputs": [
    {
     "data": {
      "text/plain": [
       "<matplotlib.collections.PathCollection at 0x110ece0b8>"
      ]
     },
     "execution_count": 12,
     "metadata": {},
     "output_type": "execute_result"
    },
    {
     "data": {
      "image/png": "[encoded data removed]",
      "text/plain": [
       "<Figure size 432x288 with 1 Axes>"
      ]
     },
     "metadata": {
      "needs_background": "light"
     },
     "output_type": "display_data"
    }
   ],
   "source": [
    "x, y = datMat[:, 0], datMat[:, 1]\n",
    "cenx = [x[0] for x in centList]\n",
    "ceny = [x[1] for x in centList]\n",
    "plt.scatter(x,y)\n",
    "plt.scatter(cenx, ceny, c='red')"
   ]
  },
  {
   "cell_type": "code",
   "execution_count": null,
   "metadata": {},
   "outputs": [],
   "source": []
  }
 ],
 "metadata": {
  "kernelspec": {
   "display_name": "Python 3",
   "language": "python",
   "name": "python3"
  },
  "language_info": {
   "codemirror_mode": {
    "name": "ipython",
    "version": 3
   },
   "file_extension": ".py",
   "mimetype": "text/x-python",
   "name": "python",
   "nbconvert_exporter": "python",
   "pygments_lexer": "ipython3",
   "version": "3.7.3"
  }
 },
 "nbformat": 4,
 "nbformat_minor": 2
}

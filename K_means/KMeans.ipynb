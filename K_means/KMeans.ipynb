{
 "cells": [
  {
   "cell_type": "code",
   "execution_count": 1,
   "metadata": {},
   "outputs": [],
   "source": [
    "import numpy as np\n",
    "import matplotlib.pyplot as plt"
   ]
  },
  {
   "cell_type": "code",
   "execution_count": 2,
   "metadata": {},
   "outputs": [],
   "source": [
    "def loadDateSet(filename):\n",
    "    dataMat = []\n",
    "    fr = open(filename)\n",
    "    for line in fr.readlines():\n",
    "        # strip()移除首位空格\n",
    "        curline = line.strip().split('\\t')\n",
    "        # map(func, iter) py3返回迭代器， py2返回列表\n",
    "        fltLine = list(map(lambda x: float(x), curline))\n",
    "        dataMat.append(fltLine)\n",
    "    return dataMat"
   ]
  },
  {
   "cell_type": "code",
   "execution_count": 3,
   "metadata": {},
   "outputs": [],
   "source": [
    "def distEclud(vecA, vecB):\n",
    "    # 对应元素相减，对应元素平方\n",
    "    # print(np.power(vecA-vecB, 2))\n",
    "    return np.sqrt(sum(np.power(vecA-vecB, 2)))"
   ]
  },
  {
   "cell_type": "code",
   "execution_count": 4,
   "metadata": {},
   "outputs": [],
   "source": [
    "def randCent(dataSet, k):\n",
    "    n = dataSet.shape[1]\n",
    "    print(dataSet.shape, n)\n",
    "    # k个质心， 特征数为n, 为矩阵类型，可以直接centroids[:, j] = 1 + np.random.rand(k,1)\n",
    "    # 如果是np.array(), 报错 (2,) 不能赋值(2,1)\n",
    "    centroids = np.mat(np.zeros(shape=(k,n)))\n",
    "    for j in range(n):\n",
    "        minJ = min(dataSet[:,j])   # 特征J那一列最小值\n",
    "        rangeJ = float(max(dataSet[:, j]) - minJ)  # 最大值-最小值\n",
    "        centroids[:, j] = minJ + rangeJ * np.random.rand(k,1) # 最小值 + (最大值-最小值)* rand(k,1) # rand(k,1)就是shape=(2,1)的随机数\n",
    "    return centroids"
   ]
  },
  {
   "cell_type": "code",
   "execution_count": 5,
   "metadata": {},
   "outputs": [
    {
     "name": "stdout",
     "output_type": "stream",
     "text": [
      "-5.379713\n"
     ]
    }
   ],
   "source": [
    "datMat = np.array(loadDateSet('testSet.txt'))\n",
    "print(min(datMat[:,0]))"
   ]
  },
  {
   "cell_type": "code",
   "execution_count": 6,
   "metadata": {},
   "outputs": [
    {
     "data": {
      "text/plain": [
       "5.184632816681332"
      ]
     },
     "execution_count": 6,
     "metadata": {},
     "output_type": "execute_result"
    }
   ],
   "source": [
    "distEclud(datMat[0], datMat[1])"
   ]
  },
  {
   "cell_type": "code",
   "execution_count": 7,
   "metadata": {},
   "outputs": [
    {
     "name": "stdout",
     "output_type": "stream",
     "text": [
      "(80, 2) 2\n"
     ]
    },
    {
     "data": {
      "text/plain": [
       "matrix([[-2.58682001,  2.41326348],\n",
       "        [ 3.61710421,  4.01379035]])"
      ]
     },
     "execution_count": 7,
     "metadata": {},
     "output_type": "execute_result"
    }
   ],
   "source": [
    "randCent(datMat, 2)"
   ]
  },
  {
   "cell_type": "code",
   "execution_count": 8,
   "metadata": {},
   "outputs": [],
   "source": [
    "def Kmeans(dataSet, k, distMeans=distEclud, createCent=randCent):\n",
    "    m = dataSet.shape[0]\n",
    "    centroids = np.array(createCent(dataSet=dataSet, k=k))   # 随机质心\n",
    "    \n",
    "    clusterAssment = np.array(np.zeros((m,2)))       # 每个样本与质心的信息，[某个质心， 与该质心的距离]\n",
    "    clusterChanged = True\n",
    "    while clusterChanged:\n",
    "        clusterChanged = False\n",
    "        for i in range(m):   # 遍历每一个样本和每个质心，找出距离样本最近的质心\n",
    "            minDist = np.inf; minIndex = -1\n",
    "            for j in range(k):\n",
    "                distJI = distMeans(dataSet[i,:], centroids[j,:])\n",
    "                if distJI < minDist:\n",
    "                    minDist = distJI; minIndex = j\n",
    "                    \n",
    "            if clusterAssment[i,0] != minIndex:\n",
    "                clusterChanged = True\n",
    "            clusterAssment[i, :] = minIndex, minDist**2\n",
    "        print(centroids)\n",
    "    \n",
    "        for cent in range(k):   # 更新质心\n",
    "            ptsInClust = dataSet[np.nonzero(clusterAssment[:,0] == cent)[0]]    # 第 cent 类的挑选出来\n",
    "            centroids[cent, :] = np.mean(ptsInClust, axis=0)   # 按列求均值axis = 0\n",
    "    \n",
    "    return centroids, clusterAssment"
   ]
  },
  {
   "cell_type": "code",
   "execution_count": 9,
   "metadata": {},
   "outputs": [
    {
     "name": "stdout",
     "output_type": "stream",
     "text": [
      "(80, 2) 2\n",
      "[[-2.64628995  2.01625253]\n",
      " [ 3.93943006 -1.51540045]\n",
      " [ 0.45063707  0.9232295 ]\n",
      " [ 1.41609424  2.08088886]]\n",
      "[[-3.09528946  0.26892174]\n",
      " [ 2.97753205 -2.6512067 ]\n",
      " [-1.30649033 -2.18182617]\n",
      " [ 2.54391447  3.21299611]]\n",
      "[[-2.79240923  2.07195618]\n",
      " [ 3.05021133 -2.82492178]\n",
      " [-2.81580542 -2.94247868]\n",
      " [ 2.46383071  3.1198451 ]]\n",
      "[[-2.46154315  2.78737555]\n",
      " [ 2.80293085 -2.7315146 ]\n",
      " [-3.38237045 -2.9473363 ]\n",
      " [ 2.6265299   3.10868015]]\n"
     ]
    }
   ],
   "source": [
    "myCentroids, clustAssing = Kmeans(dataSet=datMat, k=4, distMeans=distEclud, createCent=randCent)"
   ]
  },
  {
   "cell_type": "code",
   "execution_count": 10,
   "metadata": {},
   "outputs": [
    {
     "data": {
      "text/plain": [
       "<matplotlib.collections.PathCollection at 0x1178769e8>"
      ]
     },
     "execution_count": 10,
     "metadata": {},
     "output_type": "execute_result"
    },
    {
     "data": {
      "image/png": "[encoded data removed]",
      "text/plain": [
       "<Figure size 432x288 with 1 Axes>"
      ]
     },
     "metadata": {
      "needs_background": "light"
     },
     "output_type": "display_data"
    }
   ],
   "source": [
    "# def plot(dataSet, centrodis):\n",
    "x, y = datMat[:, 0], datMat[:, 1]\n",
    "cenx, ceny = myCentroids[:, 0], myCentroids[:,1]\n",
    "plt.scatter(x,y)\n",
    "plt.scatter(cenx, ceny, c='red')"
   ]
  },
  {
   "cell_type": "code",
   "execution_count": null,
   "metadata": {},
   "outputs": [],
   "source": []
  }
 ],
 "metadata": {
  "kernelspec": {
   "display_name": "Python 3",
   "language": "python",
   "name": "python3"
  },
  "language_info": {
   "codemirror_mode": {
    "name": "ipython",
    "version": 3
   },
   "file_extension": ".py",
   "mimetype": "text/x-python",
   "name": "python",
   "nbconvert_exporter": "python",
   "pygments_lexer": "ipython3",
   "version": "3.7.3"
  }
 },
 "nbformat": 4,
 "nbformat_minor": 2
}

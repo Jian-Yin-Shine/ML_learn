{
 "cells": [
  {
   "cell_type": "markdown",
   "metadata": {},
   "source": [
    "### CART(Classification And Reression Trees)"
   ]
  },
  {
   "cell_type": "code",
   "execution_count": 1,
   "metadata": {},
   "outputs": [],
   "source": [
    "import numpy as np"
   ]
  },
  {
   "cell_type": "code",
   "execution_count": 2,
   "metadata": {},
   "outputs": [],
   "source": [
    "def loadDataSet(fileName):\n",
    "    dataMat = []\n",
    "    file = open(fileName)\n",
    "    for line in file.readlines():\n",
    "        line = line.strip().split('\\t')\n",
    "        line = list(map(lambda x:float(x), line))\n",
    "        dataMat.append(line)\n",
    "    return dataMat"
   ]
  },
  {
   "cell_type": "code",
   "execution_count": 3,
   "metadata": {},
   "outputs": [],
   "source": [
    "def binSplitDataSet(dataSet, feature, value):\n",
    "    mat0 = dataSet[np.nonzero(dataSet[:, feature] > value)[0], :]\n",
    "    mat1 = dataSet[np.nonzero(dataSet[:, feature] <= value)[0], :]\n",
    "    return mat0, mat1"
   ]
  },
  {
   "cell_type": "code",
   "execution_count": 4,
   "metadata": {},
   "outputs": [],
   "source": [
    "# 最后一列均值\n",
    "def regLeaf(dataSet):\n",
    "    return np.mean(dataSet[:,-1])"
   ]
  },
  {
   "cell_type": "code",
   "execution_count": 5,
   "metadata": {},
   "outputs": [],
   "source": [
    "# 最后一列误差平方和 sum(均值-样本)**2 / n * n\n",
    "def regErr(dataSet):\n",
    "    return np.var(dataSet[:,-1]) * np.shape(dataSet)[0]"
   ]
  },
  {
   "cell_type": "code",
   "execution_count": 6,
   "metadata": {},
   "outputs": [],
   "source": [
    "def chooseBestSplit(dataSet, leafType=regLeaf, errType=regErr, ops=(1, 4)):\n",
    "    # tolS：允许的误差下降值\n",
    "    tolS = ops[0]\n",
    "    # tolN：切分的最小样本数\n",
    "    tolN = ops[1]\n",
    "    # 如果当前所有值相等，则退出（根据set的特性只保留不重复的元素）\n",
    "    # .T matrix [[1.000, 2.xxx, 3.xx]]\n",
    "    if len(set(dataSet[:, -1].T.tolist()[0])) == 1:\n",
    "        return None, leafType(dataSet)\n",
    "    # 统计数据集合的行m和列n\n",
    "    m, n = np.shape(dataSet)\n",
    "    # 默认最后一个特征为最佳切分特征，计算其误差估计\n",
    "    S = errType(dataSet)\n",
    "    # 分别为最佳误差，最佳特征切分的索引值，最佳特征值\n",
    "    bestS = float('inf')\n",
    "    bestIndex = 0\n",
    "    bestValue = 0\n",
    "    # 遍历所有特征\n",
    "    for featIndex in range(n-1):\n",
    "        # 遍历所有特征值\n",
    "        for splitVal in set(dataSet[:, featIndex].T.A.tolist()[0]):\n",
    "            # 根据特征和特征值切分数据集\n",
    "            mat0, mat1 = binSplitDataSet(dataSet, featIndex, splitVal)\n",
    "            # 如果数据少于tolN，则退出剪枝操作\n",
    "            if(np.shape(mat0)[0] < tolN) or (np.shape(mat1)[0] < tolN):\n",
    "                continue\n",
    "            # 计算误差估计,寻找newS的最小值\n",
    "            newS = errType(mat0) + errType(mat1)\n",
    "            # 如果误差估计更小，则更新特征索引值和特征值\n",
    "            if newS < bestS:\n",
    "                # 特征索引\n",
    "                bestIndex = featIndex\n",
    "                # 分割标准\n",
    "                bestValue = splitVal\n",
    "                # 更新目标函数的最小值\n",
    "                bestS = newS\n",
    "    # 如果误差减少不大则退出\n",
    "    if (S - bestS) < tolS:\n",
    "        return None, leafType(dataSet)\n",
    "    # 根据最佳的切分特征和特征值切分数据集合\n",
    "    mat0, mat1 = binSplitDataSet(dataSet, bestIndex, bestValue)\n",
    "    # 如果切分出的数据集很小则退出\n",
    "    if(np.shape(mat0)[0] < tolN) or (np.shape(mat1)[0] < tolN):\n",
    "        return None, leafType(dataSet)\n",
    "    # 返回最佳切分特征和特征值\n",
    "    return bestIndex, bestValue"
   ]
  },
  {
   "cell_type": "code",
   "execution_count": 7,
   "metadata": {},
   "outputs": [],
   "source": [
    "def creatTree(dataSet, leafType=regLeaf, errType=regErr, ops=(1,4)):\n",
    "    feat, val = chooseBestSplit(dataSet, leafType, errType, ops)\n",
    "    if feat == None : return val\n",
    "    retTree = {}\n",
    "    retTree['spInd'] = feat\n",
    "    retTree['spVal'] = val\n",
    "    lSet, rSet = binSplitDataSet(dataSet=dataSet, feature=feat, value=val)\n",
    "    retTree['left'] = creatTree(dataSet=lSet, leafType=regLeaf, errType=regErr, ops=ops)\n",
    "    retTree['right'] = creatTree(dataSet=rSet, leafType=regLeaf, errType=regErr, ops=ops)\n",
    "    return retTree"
   ]
  },
  {
   "cell_type": "code",
   "execution_count": 8,
   "metadata": {},
   "outputs": [],
   "source": [
    "myDat = np.mat(loadDataSet('ex0.txt'))"
   ]
  },
  {
   "cell_type": "code",
   "execution_count": 9,
   "metadata": {},
   "outputs": [
    {
     "data": {
      "text/plain": [
       "(200, 3)"
      ]
     },
     "execution_count": 9,
     "metadata": {},
     "output_type": "execute_result"
    }
   ],
   "source": [
    "myDat.shape"
   ]
  },
  {
   "cell_type": "code",
   "execution_count": 10,
   "metadata": {},
   "outputs": [
    {
     "data": {
      "text/plain": [
       "{'spInd': 1,\n",
       " 'spVal': 0.39435,\n",
       " 'left': {'spInd': 1,\n",
       "  'spVal': 0.582002,\n",
       "  'left': {'spInd': 1,\n",
       "   'spVal': 0.797583,\n",
       "   'left': 3.9871632,\n",
       "   'right': 2.9836209534883724},\n",
       "  'right': 1.980035071428571},\n",
       " 'right': {'spInd': 1,\n",
       "  'spVal': 0.197834,\n",
       "  'left': 1.0289583666666666,\n",
       "  'right': -0.023838155555555553}}"
      ]
     },
     "execution_count": 10,
     "metadata": {},
     "output_type": "execute_result"
    }
   ],
   "source": [
    "creatTree(dataSet=myDat)"
   ]
  },
  {
   "cell_type": "code",
   "execution_count": null,
   "metadata": {},
   "outputs": [],
   "source": []
  }
 ],
 "metadata": {
  "kernelspec": {
   "display_name": "Python 3",
   "language": "python",
   "name": "python3"
  },
  "language_info": {
   "codemirror_mode": {
    "name": "ipython",
    "version": 3
   },
   "file_extension": ".py",
   "mimetype": "text/x-python",
   "name": "python",
   "nbconvert_exporter": "python",
   "pygments_lexer": "ipython3",
   "version": "3.7.3"
  }
 },
 "nbformat": 4,
 "nbformat_minor": 2
}
